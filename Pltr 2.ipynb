{
 "cells": [
  {
   "cell_type": "code",
   "execution_count": 18,
   "id": "e1130f36",
   "metadata": {},
   "outputs": [],
   "source": [
    "import numpy as np"
   ]
  },
  {
   "cell_type": "code",
   "execution_count": 19,
   "id": "e313d450",
   "metadata": {},
   "outputs": [],
   "source": [
    "import pandas_datareader as pdr"
   ]
  },
  {
   "cell_type": "code",
   "execution_count": 20,
   "id": "02a00115",
   "metadata": {},
   "outputs": [],
   "source": [
    "import datetime as dt\n",
    "import pandas as pd"
   ]
  },
  {
   "cell_type": "code",
   "execution_count": 21,
   "id": "9a41133c",
   "metadata": {},
   "outputs": [
    {
     "ename": "TypeError",
     "evalue": "string indices must be integers",
     "output_type": "error",
     "traceback": [
      "\u001b[1;31m---------------------------------------------------------------------------\u001b[0m",
      "\u001b[1;31mTypeError\u001b[0m                                 Traceback (most recent call last)",
      "\u001b[1;32m~\\AppData\\Local\\Temp/ipykernel_23712/3116682822.py\u001b[0m in \u001b[0;36m<module>\u001b[1;34m\u001b[0m\n\u001b[0;32m      1\u001b[0m \u001b[0mstart\u001b[0m \u001b[1;33m=\u001b[0m \u001b[0mdt\u001b[0m\u001b[1;33m.\u001b[0m\u001b[0mdatetime\u001b[0m\u001b[1;33m(\u001b[0m\u001b[1;36m2021\u001b[0m\u001b[1;33m,\u001b[0m \u001b[1;36m1\u001b[0m\u001b[1;33m,\u001b[0m \u001b[1;36m1\u001b[0m\u001b[1;33m)\u001b[0m\u001b[1;33m\u001b[0m\u001b[1;33m\u001b[0m\u001b[0m\n\u001b[1;32m----> 2\u001b[1;33m \u001b[0mdata\u001b[0m \u001b[1;33m=\u001b[0m \u001b[0mpdr\u001b[0m\u001b[1;33m.\u001b[0m\u001b[0mget_data_yahoo\u001b[0m\u001b[1;33m(\u001b[0m\u001b[1;34m\"PLTR\"\u001b[0m\u001b[1;33m,\u001b[0m \u001b[0mstart\u001b[0m\u001b[1;33m)\u001b[0m\u001b[1;33m\u001b[0m\u001b[1;33m\u001b[0m\u001b[0m\n\u001b[0m",
      "\u001b[1;32m~\\anaconda3\\lib\\site-packages\\pandas_datareader\\data.py\u001b[0m in \u001b[0;36mget_data_yahoo\u001b[1;34m(*args, **kwargs)\u001b[0m\n\u001b[0;32m     78\u001b[0m \u001b[1;33m\u001b[0m\u001b[0m\n\u001b[0;32m     79\u001b[0m \u001b[1;32mdef\u001b[0m \u001b[0mget_data_yahoo\u001b[0m\u001b[1;33m(\u001b[0m\u001b[1;33m*\u001b[0m\u001b[0margs\u001b[0m\u001b[1;33m,\u001b[0m \u001b[1;33m**\u001b[0m\u001b[0mkwargs\u001b[0m\u001b[1;33m)\u001b[0m\u001b[1;33m:\u001b[0m\u001b[1;33m\u001b[0m\u001b[1;33m\u001b[0m\u001b[0m\n\u001b[1;32m---> 80\u001b[1;33m     \u001b[1;32mreturn\u001b[0m \u001b[0mYahooDailyReader\u001b[0m\u001b[1;33m(\u001b[0m\u001b[1;33m*\u001b[0m\u001b[0margs\u001b[0m\u001b[1;33m,\u001b[0m \u001b[1;33m**\u001b[0m\u001b[0mkwargs\u001b[0m\u001b[1;33m)\u001b[0m\u001b[1;33m.\u001b[0m\u001b[0mread\u001b[0m\u001b[1;33m(\u001b[0m\u001b[1;33m)\u001b[0m\u001b[1;33m\u001b[0m\u001b[1;33m\u001b[0m\u001b[0m\n\u001b[0m\u001b[0;32m     81\u001b[0m \u001b[1;33m\u001b[0m\u001b[0m\n\u001b[0;32m     82\u001b[0m \u001b[1;33m\u001b[0m\u001b[0m\n",
      "\u001b[1;32m~\\anaconda3\\lib\\site-packages\\pandas_datareader\\base.py\u001b[0m in \u001b[0;36mread\u001b[1;34m(self)\u001b[0m\n\u001b[0;32m    251\u001b[0m         \u001b[1;31m# If a single symbol, (e.g., 'GOOG')\u001b[0m\u001b[1;33m\u001b[0m\u001b[1;33m\u001b[0m\u001b[0m\n\u001b[0;32m    252\u001b[0m         \u001b[1;32mif\u001b[0m \u001b[0misinstance\u001b[0m\u001b[1;33m(\u001b[0m\u001b[0mself\u001b[0m\u001b[1;33m.\u001b[0m\u001b[0msymbols\u001b[0m\u001b[1;33m,\u001b[0m \u001b[1;33m(\u001b[0m\u001b[0mstring_types\u001b[0m\u001b[1;33m,\u001b[0m \u001b[0mint\u001b[0m\u001b[1;33m)\u001b[0m\u001b[1;33m)\u001b[0m\u001b[1;33m:\u001b[0m\u001b[1;33m\u001b[0m\u001b[1;33m\u001b[0m\u001b[0m\n\u001b[1;32m--> 253\u001b[1;33m             \u001b[0mdf\u001b[0m \u001b[1;33m=\u001b[0m \u001b[0mself\u001b[0m\u001b[1;33m.\u001b[0m\u001b[0m_read_one_data\u001b[0m\u001b[1;33m(\u001b[0m\u001b[0mself\u001b[0m\u001b[1;33m.\u001b[0m\u001b[0murl\u001b[0m\u001b[1;33m,\u001b[0m \u001b[0mparams\u001b[0m\u001b[1;33m=\u001b[0m\u001b[0mself\u001b[0m\u001b[1;33m.\u001b[0m\u001b[0m_get_params\u001b[0m\u001b[1;33m(\u001b[0m\u001b[0mself\u001b[0m\u001b[1;33m.\u001b[0m\u001b[0msymbols\u001b[0m\u001b[1;33m)\u001b[0m\u001b[1;33m)\u001b[0m\u001b[1;33m\u001b[0m\u001b[1;33m\u001b[0m\u001b[0m\n\u001b[0m\u001b[0;32m    254\u001b[0m         \u001b[1;31m# Or multiple symbols, (e.g., ['GOOG', 'AAPL', 'MSFT'])\u001b[0m\u001b[1;33m\u001b[0m\u001b[1;33m\u001b[0m\u001b[0m\n\u001b[0;32m    255\u001b[0m         \u001b[1;32melif\u001b[0m \u001b[0misinstance\u001b[0m\u001b[1;33m(\u001b[0m\u001b[0mself\u001b[0m\u001b[1;33m.\u001b[0m\u001b[0msymbols\u001b[0m\u001b[1;33m,\u001b[0m \u001b[0mDataFrame\u001b[0m\u001b[1;33m)\u001b[0m\u001b[1;33m:\u001b[0m\u001b[1;33m\u001b[0m\u001b[1;33m\u001b[0m\u001b[0m\n",
      "\u001b[1;32m~\\anaconda3\\lib\\site-packages\\pandas_datareader\\yahoo\\daily.py\u001b[0m in \u001b[0;36m_read_one_data\u001b[1;34m(self, url, params)\u001b[0m\n\u001b[0;32m    151\u001b[0m         \u001b[1;32mtry\u001b[0m\u001b[1;33m:\u001b[0m\u001b[1;33m\u001b[0m\u001b[1;33m\u001b[0m\u001b[0m\n\u001b[0;32m    152\u001b[0m             \u001b[0mj\u001b[0m \u001b[1;33m=\u001b[0m \u001b[0mjson\u001b[0m\u001b[1;33m.\u001b[0m\u001b[0mloads\u001b[0m\u001b[1;33m(\u001b[0m\u001b[0mre\u001b[0m\u001b[1;33m.\u001b[0m\u001b[0msearch\u001b[0m\u001b[1;33m(\u001b[0m\u001b[0mptrn\u001b[0m\u001b[1;33m,\u001b[0m \u001b[0mresp\u001b[0m\u001b[1;33m.\u001b[0m\u001b[0mtext\u001b[0m\u001b[1;33m,\u001b[0m \u001b[0mre\u001b[0m\u001b[1;33m.\u001b[0m\u001b[0mDOTALL\u001b[0m\u001b[1;33m)\u001b[0m\u001b[1;33m.\u001b[0m\u001b[0mgroup\u001b[0m\u001b[1;33m(\u001b[0m\u001b[1;36m1\u001b[0m\u001b[1;33m)\u001b[0m\u001b[1;33m)\u001b[0m\u001b[1;33m\u001b[0m\u001b[1;33m\u001b[0m\u001b[0m\n\u001b[1;32m--> 153\u001b[1;33m             \u001b[0mdata\u001b[0m \u001b[1;33m=\u001b[0m \u001b[0mj\u001b[0m\u001b[1;33m[\u001b[0m\u001b[1;34m\"context\"\u001b[0m\u001b[1;33m]\u001b[0m\u001b[1;33m[\u001b[0m\u001b[1;34m\"dispatcher\"\u001b[0m\u001b[1;33m]\u001b[0m\u001b[1;33m[\u001b[0m\u001b[1;34m\"stores\"\u001b[0m\u001b[1;33m]\u001b[0m\u001b[1;33m[\u001b[0m\u001b[1;34m\"HistoricalPriceStore\"\u001b[0m\u001b[1;33m]\u001b[0m\u001b[1;33m\u001b[0m\u001b[1;33m\u001b[0m\u001b[0m\n\u001b[0m\u001b[0;32m    154\u001b[0m         \u001b[1;32mexcept\u001b[0m \u001b[0mKeyError\u001b[0m\u001b[1;33m:\u001b[0m\u001b[1;33m\u001b[0m\u001b[1;33m\u001b[0m\u001b[0m\n\u001b[0;32m    155\u001b[0m             \u001b[0mmsg\u001b[0m \u001b[1;33m=\u001b[0m \u001b[1;34m\"No data fetched for symbol {} using {}\"\u001b[0m\u001b[1;33m\u001b[0m\u001b[1;33m\u001b[0m\u001b[0m\n",
      "\u001b[1;31mTypeError\u001b[0m: string indices must be integers"
     ]
    }
   ],
   "source": [
    "start = dt.datetime(2021, 1, 1)\n",
    "data = pdr.get_data_yahoo(\"PLTR\", start)"
   ]
  },
  {
   "cell_type": "code",
   "execution_count": null,
   "id": "b7f5ff43",
   "metadata": {},
   "outputs": [],
   "source": [
    "pip install yfinance"
   ]
  },
  {
   "cell_type": "code",
   "execution_count": 27,
   "id": "ec8214cc",
   "metadata": {},
   "outputs": [
    {
     "name": "stdout",
     "output_type": "stream",
     "text": [
      "[*********************100%***********************]  1 of 1 completed\n"
     ]
    }
   ],
   "source": [
    "import pandas_datareader.data as pdr\n",
    "import yfinance as yf\n",
    "yf.pdr_override()\n",
    "from datetime import datetime\n",
    "\n",
    "data = pdr.get_data_yahoo('PLTR', datetime(1970, 1, 1))"
   ]
  },
  {
   "cell_type": "code",
   "execution_count": null,
   "id": "9687c719",
   "metadata": {},
   "outputs": [],
   "source": [
    "data.tail()"
   ]
  },
  {
   "cell_type": "code",
   "execution_count": null,
   "id": "024f36f5",
   "metadata": {},
   "outputs": [],
   "source": [
    "data.dtypes"
   ]
  },
  {
   "cell_type": "code",
   "execution_count": null,
   "id": "ad901f3a",
   "metadata": {},
   "outputs": [],
   "source": [
    "type(data)"
   ]
  },
  {
   "cell_type": "markdown",
   "id": "1c6710ae",
   "metadata": {},
   "source": [
    "### NumPy"
   ]
  },
  {
   "cell_type": "code",
   "execution_count": null,
   "id": "4e162fc1",
   "metadata": {},
   "outputs": [],
   "source": [
    "data.to_numpy()"
   ]
  },
  {
   "cell_type": "code",
   "execution_count": null,
   "id": "01a4d3e8",
   "metadata": {},
   "outputs": [],
   "source": [
    "arr = data.to_numpy()"
   ]
  },
  {
   "cell_type": "code",
   "execution_count": null,
   "id": "7f5bd6e6",
   "metadata": {},
   "outputs": [],
   "source": [
    "arr.shape"
   ]
  },
  {
   "cell_type": "code",
   "execution_count": null,
   "id": "3ad9bf70",
   "metadata": {},
   "outputs": [],
   "source": [
    "len(data)"
   ]
  },
  {
   "cell_type": "code",
   "execution_count": null,
   "id": "debd46cf",
   "metadata": {},
   "outputs": [],
   "source": [
    "arr[0]"
   ]
  },
  {
   "cell_type": "code",
   "execution_count": null,
   "id": "69c1763f",
   "metadata": {},
   "outputs": [],
   "source": [
    "data.head(1)"
   ]
  },
  {
   "cell_type": "code",
   "execution_count": null,
   "id": "d63a3bf8",
   "metadata": {},
   "outputs": [],
   "source": [
    "arr.dtype"
   ]
  },
  {
   "cell_type": "code",
   "execution_count": null,
   "id": "d3d213e8",
   "metadata": {},
   "outputs": [],
   "source": [
    "small = arr[:10, 0].copy()"
   ]
  },
  {
   "cell_type": "code",
   "execution_count": null,
   "id": "139f7f9d",
   "metadata": {},
   "outputs": [],
   "source": [
    "small"
   ]
  },
  {
   "cell_type": "code",
   "execution_count": null,
   "id": "ce7c7ea1",
   "metadata": {},
   "outputs": [],
   "source": [
    "data.head()"
   ]
  },
  {
   "cell_type": "code",
   "execution_count": null,
   "id": "b6031ce2",
   "metadata": {},
   "outputs": [],
   "source": [
    "np.max(small)"
   ]
  },
  {
   "cell_type": "code",
   "execution_count": null,
   "id": "7fa874b6",
   "metadata": {},
   "outputs": [],
   "source": [
    "small.max()"
   ]
  },
  {
   "cell_type": "code",
   "execution_count": null,
   "id": "58704d04",
   "metadata": {},
   "outputs": [],
   "source": [
    "small.argmax()"
   ]
  },
  {
   "cell_type": "code",
   "execution_count": null,
   "id": "d1c7c455",
   "metadata": {},
   "outputs": [],
   "source": [
    "small"
   ]
  },
  {
   "cell_type": "code",
   "execution_count": null,
   "id": "cc12f098",
   "metadata": {},
   "outputs": [],
   "source": [
    "small[small.argmax()]"
   ]
  },
  {
   "cell_type": "code",
   "execution_count": null,
   "id": "89d5be53",
   "metadata": {},
   "outputs": [],
   "source": [
    "np.log(small)"
   ]
  },
  {
   "cell_type": "code",
   "execution_count": null,
   "id": "0f2f7e1d",
   "metadata": {},
   "outputs": [],
   "source": [
    "np.log(data)"
   ]
  },
  {
   "cell_type": "code",
   "execution_count": null,
   "id": "4f1c1c9c",
   "metadata": {},
   "outputs": [],
   "source": [
    "data/data.shift()"
   ]
  },
  {
   "cell_type": "code",
   "execution_count": null,
   "id": "4a7ebeb7",
   "metadata": {},
   "outputs": [],
   "source": [
    "np.sum(np.log(data/data.shift()))"
   ]
  },
  {
   "cell_type": "code",
   "execution_count": null,
   "id": "2d92d7d8",
   "metadata": {},
   "outputs": [],
   "source": [
    "np.log(data/data.iloc[0]).tail(1)"
   ]
  },
  {
   "cell_type": "code",
   "execution_count": null,
   "id": "6a580f9b",
   "metadata": {},
   "outputs": [],
   "source": [
    "small.shape"
   ]
  },
  {
   "cell_type": "code",
   "execution_count": null,
   "id": "f8c114e4",
   "metadata": {},
   "outputs": [],
   "source": [
    "small.reshape(2, 5)"
   ]
  },
  {
   "cell_type": "code",
   "execution_count": null,
   "id": "e577b93a",
   "metadata": {},
   "outputs": [],
   "source": [
    "small.reshape(10, 1)"
   ]
  },
  {
   "cell_type": "code",
   "execution_count": null,
   "id": "44025593",
   "metadata": {},
   "outputs": [],
   "source": [
    "small.reshape(-1, 1)"
   ]
  },
  {
   "cell_type": "markdown",
   "id": "211c8e45",
   "metadata": {},
   "source": [
    "# Portfolios\n"
   ]
  },
  {
   "cell_type": "code",
   "execution_count": null,
   "id": "ab9a1dc6",
   "metadata": {},
   "outputs": [],
   "source": [
    "tickers = [\"PLTR\", \"TWTR\", \"BB\", \"IBM\"]"
   ]
  },
  {
   "cell_type": "code",
   "execution_count": null,
   "id": "266601ac",
   "metadata": {},
   "outputs": [],
   "source": [
    "start = dt.datetime(2021, 1, 1)\n",
    "data = pdr.get_data_yahoo(tickers, start)"
   ]
  },
  {
   "cell_type": "code",
   "execution_count": null,
   "id": "c380ec7c",
   "metadata": {},
   "outputs": [],
   "source": [
    "data.head()"
   ]
  },
  {
   "cell_type": "code",
   "execution_count": null,
   "id": "be1764bc",
   "metadata": {},
   "outputs": [],
   "source": [
    "data = data[\"Adj Close\"]\n",
    "data.head()"
   ]
  },
  {
   "cell_type": "code",
   "execution_count": null,
   "id": "1cb1fcee",
   "metadata": {},
   "outputs": [],
   "source": [
    "portfolios = [.83, .07, .05, .05]"
   ]
  },
  {
   "cell_type": "code",
   "execution_count": null,
   "id": "03ad7419",
   "metadata": {},
   "outputs": [],
   "source": [
    "np.sum(portfolios)"
   ]
  },
  {
   "cell_type": "code",
   "execution_count": null,
   "id": "6ef0bb52",
   "metadata": {},
   "outputs": [],
   "source": [
    "(data/data.iloc[0])*portfolios"
   ]
  },
  {
   "cell_type": "code",
   "execution_count": null,
   "id": "27847c25",
   "metadata": {},
   "outputs": [],
   "source": [
    "weight = np.random.random(4)\n",
    "weight /= weight.sum()\n",
    "weight"
   ]
  },
  {
   "cell_type": "code",
   "execution_count": null,
   "id": "77986652",
   "metadata": {},
   "outputs": [],
   "source": [
    "weight.sum()"
   ]
  },
  {
   "cell_type": "code",
   "execution_count": null,
   "id": "d668bbc5",
   "metadata": {},
   "outputs": [],
   "source": [
    "data = pdr.get_data_yahoo(\"PLTR\", start)"
   ]
  },
  {
   "cell_type": "code",
   "execution_count": null,
   "id": "426da1d2",
   "metadata": {},
   "outputs": [],
   "source": [
    "data.head()"
   ]
  },
  {
   "cell_type": "code",
   "execution_count": null,
   "id": "081da1b1",
   "metadata": {},
   "outputs": [],
   "source": [
    "high_low = data[\"High\"] - data[\"Low\"]\n",
    "high_cp = np.abs(data[\"High\"] - data[\"Close\"].shift())"
   ]
  },
  {
   "cell_type": "code",
   "execution_count": null,
   "id": "abcc4857",
   "metadata": {},
   "outputs": [],
   "source": [
    "import numpy as np\n",
    "import pandas_datareader as pdr\n",
    "import datetime as dt\n",
    "import pandas as pd\n",
    "import yfinance as yf\n",
    "yf.pdr_override()"
   ]
  },
  {
   "cell_type": "code",
   "execution_count": null,
   "id": "9e1b7936",
   "metadata": {},
   "outputs": [],
   "source": [
    "start = dt.datetime(2021, 1, 1)\n",
    "data = pdr.get_data_yahoo(\"NFLX\", start)"
   ]
  },
  {
   "cell_type": "markdown",
   "id": "c9fc89d6",
   "metadata": {},
   "source": [
    " \"metadata\": {},\n",
    "   \"source\": [\n",
    "    \"### Formula\\n\",\n",
    "    \"$TR = \\\\max[H − L, |H − C_P|, |L − C_P|]$\\n\",\n",
    "    \"\\n\",\n",
    "    \"$ATR = \\\\frac{1}{n}\\\\sum_{i=1}^{n} TR_i$\\n\",\n",
    "    \"\\n\",\n",
    "    \"- $TR_i$: A particular True Range\\n\",\n",
    "    \"- $n$: The time period employed\\n\",\n",
    "    \"- $H$: Current High\\n\",\n",
    "    \"- $L$: Current Low\\n\",\n",
    "    \"- $C_P$: Previous Close\\n\"\n",
    "    "
   ]
  },
  {
   "cell_type": "code",
   "execution_count": null,
   "id": "c14822be",
   "metadata": {},
   "outputs": [],
   "source": [
    "data.head()"
   ]
  },
  {
   "cell_type": "code",
   "execution_count": null,
   "id": "ed21e7b2",
   "metadata": {},
   "outputs": [],
   "source": [
    "high_low = data[\"High\"] - data[\"Low\"]\n",
    "high_cp = np.abs(data[\"High\"] - data[\"Close\"].shift())\n",
    "low_cp =np.abs(data[\"Low\"] - data[\"Close\"].shift())"
   ]
  },
  {
   "cell_type": "code",
   "execution_count": null,
   "id": "54f780c2",
   "metadata": {},
   "outputs": [],
   "source": [
    "df = pd.concat([high_low, high_cp, low_cp], axis=1)"
   ]
  },
  {
   "cell_type": "code",
   "execution_count": null,
   "id": "c7cfbe03",
   "metadata": {},
   "outputs": [],
   "source": [
    "true_range = np.max(df, axis=1)"
   ]
  },
  {
   "cell_type": "code",
   "execution_count": null,
   "id": "c0c63681",
   "metadata": {},
   "outputs": [],
   "source": [
    "true_range"
   ]
  },
  {
   "cell_type": "code",
   "execution_count": null,
   "id": "b7724e8c",
   "metadata": {},
   "outputs": [],
   "source": [
    "average_true_range = true_range.rolling(14).mean()"
   ]
  },
  {
   "cell_type": "code",
   "execution_count": null,
   "id": "740a6c0c",
   "metadata": {},
   "outputs": [],
   "source": [
    "average_true_range"
   ]
  },
  {
   "cell_type": "code",
   "execution_count": null,
   "id": "78b94b31",
   "metadata": {},
   "outputs": [],
   "source": [
    "true_range.rolling(14).sum()/14"
   ]
  },
  {
   "cell_type": "code",
   "execution_count": null,
   "id": "6814435e",
   "metadata": {},
   "outputs": [],
   "source": [
    "import matplotlib.pyplot as plt"
   ]
  },
  {
   "cell_type": "code",
   "execution_count": null,
   "id": "4c08265e",
   "metadata": {},
   "outputs": [],
   "source": [
    "%matplotlib notebook"
   ]
  },
  {
   "cell_type": "code",
   "execution_count": null,
   "id": "a4ea823b",
   "metadata": {
    "scrolled": true
   },
   "outputs": [],
   "source": [
    "fig, ax = plt.subplots()\n",
    "average_true_range.plot(ax=ax)\n",
    "ax2 = data[\"Close\"].plot(ax=ax, secondary_y=True, alpha=0.3)\n",
    "ax.set_ylabel(\"ATR\")\n",
    "ax2.set_ylabel(\"Price\")"
   ]
  },
  {
   "cell_type": "code",
   "execution_count": null,
   "id": "926ae7bf",
   "metadata": {},
   "outputs": [],
   "source": [
    "import numpy as np\n",
    "import pandas_datareader as pdr\n",
    "import datetime as dt\n",
    "import pandas as pd"
   ]
  },
  {
   "cell_type": "code",
   "execution_count": null,
   "id": "8836f169",
   "metadata": {},
   "outputs": [],
   "source": [
    "tickers = [\"PLTR\", \"BB\", \"TWTR\", \"AAPL\"]\n",
    "start = dt.datetime(2021, 1, 1)\n",
    "data = pdr.get_data_yahoo(tickers, start)\n",
    "import yfinance as yf\n",
    "yf.pdr_override()\n",
    "from datetime import datetime"
   ]
  },
  {
   "cell_type": "code",
   "execution_count": null,
   "id": "3a383334",
   "metadata": {},
   "outputs": [],
   "source": [
    "data.head()"
   ]
  },
  {
   "cell_type": "code",
   "execution_count": null,
   "id": "0fcef27d",
   "metadata": {},
   "outputs": [],
   "source": [
    "data = data[\"Adj Close\"]"
   ]
  },
  {
   "cell_type": "code",
   "execution_count": null,
   "id": "b20720c8",
   "metadata": {},
   "outputs": [],
   "source": [
    "data"
   ]
  },
  {
   "cell_type": "code",
   "execution_count": null,
   "id": "674ab874",
   "metadata": {},
   "outputs": [],
   "source": [
    "portfolio = [.50, .25,.10, .15]"
   ]
  },
  {
   "cell_type": "code",
   "execution_count": null,
   "id": "7eaeb832",
   "metadata": {},
   "outputs": [],
   "source": [
    "np.sum(portfolio)"
   ]
  },
  {
   "cell_type": "code",
   "execution_count": null,
   "id": "f8728dfd",
   "metadata": {},
   "outputs": [],
   "source": [
    "log_return = np.sum(np.log(data/data.shift())*portfolio,axis=1)"
   ]
  },
  {
   "cell_type": "code",
   "execution_count": null,
   "id": "389eec9a",
   "metadata": {},
   "outputs": [],
   "source": [
    "log_return"
   ]
  },
  {
   "cell_type": "code",
   "execution_count": null,
   "id": "7bc60b6e",
   "metadata": {},
   "outputs": [],
   "source": [
    "import matplotlib.pyplot as plt\n",
    "%matplotlib notebook"
   ]
  },
  {
   "cell_type": "code",
   "execution_count": null,
   "id": "8aad67f9",
   "metadata": {},
   "outputs": [],
   "source": [
    "fig, ax = plt.subplots()\n",
    "log_return.hist(bins=50, ax=ax)"
   ]
  },
  {
   "cell_type": "code",
   "execution_count": null,
   "id": "e066b225",
   "metadata": {},
   "outputs": [],
   "source": [
    "log_return.std()"
   ]
  },
  {
   "cell_type": "code",
   "execution_count": null,
   "id": "fe6cc7fb",
   "metadata": {},
   "outputs": [],
   "source": [
    "log_return.mean()"
   ]
  },
  {
   "cell_type": "code",
   "execution_count": null,
   "id": "db662f77",
   "metadata": {},
   "outputs": [],
   "source": [
    "sharpe_ratio = log_return.mean()/log_return.std()"
   ]
  },
  {
   "cell_type": "code",
   "execution_count": null,
   "id": "45c449ad",
   "metadata": {},
   "outputs": [],
   "source": [
    "asr = sharpe_ratio*255**.5"
   ]
  },
  {
   "cell_type": "code",
   "execution_count": null,
   "id": "26e356a6",
   "metadata": {},
   "outputs": [],
   "source": [
    "asr"
   ]
  },
  {
   "cell_type": "code",
   "execution_count": null,
   "id": "e8c41ff0",
   "metadata": {},
   "outputs": [],
   "source": [
    "weight = np.random.random(4)\n",
    "weight /= weight.sum()\n",
    "weight"
   ]
  },
  {
   "cell_type": "code",
   "execution_count": null,
   "id": "ae7f865f",
   "metadata": {},
   "outputs": [],
   "source": [
    "log_return2 = np.sum(np.log(data/data.shift())*weight, axis=1)"
   ]
  },
  {
   "cell_type": "code",
   "execution_count": null,
   "id": "2fef1fec",
   "metadata": {},
   "outputs": [],
   "source": [
    "asr2 = sharpe_ratio2 = log_return2.mean()/log_return2.std()"
   ]
  },
  {
   "cell_type": "code",
   "execution_count": null,
   "id": "b74fca44",
   "metadata": {},
   "outputs": [],
   "source": [
    "asr2"
   ]
  },
  {
   "cell_type": "code",
   "execution_count": null,
   "id": "38e89a2f",
   "metadata": {},
   "outputs": [],
   "source": [
    "import numpy as np"
   ]
  },
  {
   "cell_type": "code",
   "execution_count": null,
   "id": "4b8a3c05",
   "metadata": {},
   "outputs": [],
   "source": [
    "def roll_dice():\n",
    "    return np.sum(np.random.randint(1, 7, 2))"
   ]
  },
  {
   "cell_type": "code",
   "execution_count": null,
   "id": "25d893df",
   "metadata": {},
   "outputs": [],
   "source": [
    "roll_dice()"
   ]
  },
  {
   "cell_type": "code",
   "execution_count": null,
   "id": "eca642c5",
   "metadata": {},
   "outputs": [],
   "source": [
    "def monte_carlo_simulation(runs=1000):\n",
    "    results = np.zeros(2)\n",
    "    for _ in range(runs):\n",
    "        if roll_dice() == 7:\n",
    "            results[0] += 1\n",
    "        else:\n",
    "            results[1] += 1\n",
    "    return results"
   ]
  },
  {
   "cell_type": "code",
   "execution_count": null,
   "id": "9a784382",
   "metadata": {},
   "outputs": [],
   "source": [
    "monte_carlo_simulation()"
   ]
  },
  {
   "cell_type": "code",
   "execution_count": null,
   "id": "4cd486df",
   "metadata": {},
   "outputs": [],
   "source": [
    "np.zeros(2)"
   ]
  },
  {
   "cell_type": "code",
   "execution_count": null,
   "id": "345f535c",
   "metadata": {},
   "outputs": [],
   "source": [
    "165*5"
   ]
  },
  {
   "cell_type": "code",
   "execution_count": null,
   "id": "8f0f36f3",
   "metadata": {},
   "outputs": [],
   "source": [
    "monte_carlo_simulation()"
   ]
  },
  {
   "cell_type": "code",
   "execution_count": null,
   "id": "f2add1d1",
   "metadata": {},
   "outputs": [],
   "source": [
    "results = np.zeros(1000)\n",
    "\n",
    "for i in range(1000):\n",
    "    results[i]= monte_carlo_simulation()[0]"
   ]
  },
  {
   "cell_type": "code",
   "execution_count": null,
   "id": "be056684",
   "metadata": {},
   "outputs": [],
   "source": [
    "import matplotlib.pyplot as plt \n",
    "%matplotlib notebook"
   ]
  },
  {
   "cell_type": "code",
   "execution_count": null,
   "id": "2ce58f32",
   "metadata": {},
   "outputs": [],
   "source": [
    "fig, ax = plt.subplots()\n",
    "ax.hist(results, bins=15)"
   ]
  },
  {
   "cell_type": "code",
   "execution_count": null,
   "id": "d6129818",
   "metadata": {},
   "outputs": [],
   "source": [
    "results.mean()*5"
   ]
  },
  {
   "cell_type": "code",
   "execution_count": null,
   "id": "96efb347",
   "metadata": {},
   "outputs": [],
   "source": [
    "1000 - results.mean()"
   ]
  },
  {
   "cell_type": "code",
   "execution_count": null,
   "id": "c39ae1fb",
   "metadata": {},
   "outputs": [],
   "source": [
    "results.mean()/1000"
   ]
  },
  {
   "cell_type": "code",
   "execution_count": null,
   "id": "46a5250c",
   "metadata": {},
   "outputs": [],
   "source": [
    "d1 = np.arange(1, 7)\n",
    "d2 = np.arange(1, 7)"
   ]
  },
  {
   "cell_type": "code",
   "execution_count": null,
   "id": "c048118a",
   "metadata": {},
   "outputs": [],
   "source": [
    "mat = np.add.outer(d1, d2)"
   ]
  },
  {
   "cell_type": "code",
   "execution_count": null,
   "id": "7b8330a5",
   "metadata": {},
   "outputs": [],
   "source": [
    "mat"
   ]
  },
  {
   "cell_type": "code",
   "execution_count": null,
   "id": "67405c4e",
   "metadata": {},
   "outputs": [],
   "source": [
    "mat.size"
   ]
  },
  {
   "cell_type": "code",
   "execution_count": null,
   "id": "1d16d15c",
   "metadata": {},
   "outputs": [],
   "source": [
    "mat[mat == 7].size"
   ]
  },
  {
   "cell_type": "code",
   "execution_count": null,
   "id": "2b487f93",
   "metadata": {},
   "outputs": [],
   "source": [
    "mat[mat == 7].size/mat.size"
   ]
  },
  {
   "cell_type": "markdown",
   "id": "d20217d1",
   "metadata": {},
   "source": [
    "# Monte carlo with portfolios and Sharpe Ratio\n"
   ]
  },
  {
   "cell_type": "code",
   "execution_count": 25,
   "id": "ce4c4510",
   "metadata": {},
   "outputs": [],
   "source": [
    "import pandas_datareader as pdr\n",
    "import datetime as dt\n",
    "import pandas as pd"
   ]
  },
  {
   "cell_type": "code",
   "execution_count": 29,
   "id": "8f3f4811",
   "metadata": {},
   "outputs": [
    {
     "name": "stdout",
     "output_type": "stream",
     "text": [
      "[*********************100%***********************]  4 of 4 completed\n"
     ]
    }
   ],
   "source": [
    "tickers = ['AAPL', 'MSFT', 'TWTR', 'IBM']\n",
    "start = dt.datetime(2021, 1, 1)\n",
    "data = pdr.get_data_yahoo(tickers, start)"
   ]
  },
  {
   "cell_type": "code",
   "execution_count": 30,
   "id": "f0b704a2",
   "metadata": {},
   "outputs": [],
   "source": [
    "data = data[\"Adj Close\"]"
   ]
  },
  {
   "cell_type": "code",
   "execution_count": 31,
   "id": "dd8b1e97",
   "metadata": {},
   "outputs": [
    {
     "data": {
      "text/html": [
       "<div>\n",
       "<style scoped>\n",
       "    .dataframe tbody tr th:only-of-type {\n",
       "        vertical-align: middle;\n",
       "    }\n",
       "\n",
       "    .dataframe tbody tr th {\n",
       "        vertical-align: top;\n",
       "    }\n",
       "\n",
       "    .dataframe thead th {\n",
       "        text-align: right;\n",
       "    }\n",
       "</style>\n",
       "<table border=\"1\" class=\"dataframe\">\n",
       "  <thead>\n",
       "    <tr style=\"text-align: right;\">\n",
       "      <th></th>\n",
       "      <th>AAPL</th>\n",
       "      <th>IBM</th>\n",
       "      <th>MSFT</th>\n",
       "      <th>TWTR</th>\n",
       "    </tr>\n",
       "    <tr>\n",
       "      <th>Date</th>\n",
       "      <th></th>\n",
       "      <th></th>\n",
       "      <th></th>\n",
       "      <th></th>\n",
       "    </tr>\n",
       "  </thead>\n",
       "  <tbody>\n",
       "    <tr>\n",
       "      <th>2021-01-04 00:00:00-05:00</th>\n",
       "      <td>127.680023</td>\n",
       "      <td>106.178658</td>\n",
       "      <td>213.342026</td>\n",
       "      <td>54.529999</td>\n",
       "    </tr>\n",
       "    <tr>\n",
       "      <th>2021-01-05 00:00:00-05:00</th>\n",
       "      <td>129.258591</td>\n",
       "      <td>108.063400</td>\n",
       "      <td>213.547821</td>\n",
       "      <td>53.880001</td>\n",
       "    </tr>\n",
       "    <tr>\n",
       "      <th>2021-01-06 00:00:00-05:00</th>\n",
       "      <td>124.907562</td>\n",
       "      <td>110.762001</td>\n",
       "      <td>208.010651</td>\n",
       "      <td>53.259998</td>\n",
       "    </tr>\n",
       "    <tr>\n",
       "      <th>2021-01-07 00:00:00-05:00</th>\n",
       "      <td>129.169815</td>\n",
       "      <td>110.504974</td>\n",
       "      <td>213.930038</td>\n",
       "      <td>52.330002</td>\n",
       "    </tr>\n",
       "    <tr>\n",
       "      <th>2021-01-08 00:00:00-05:00</th>\n",
       "      <td>130.284698</td>\n",
       "      <td>110.110901</td>\n",
       "      <td>215.233459</td>\n",
       "      <td>51.480000</td>\n",
       "    </tr>\n",
       "  </tbody>\n",
       "</table>\n",
       "</div>"
      ],
      "text/plain": [
       "                                 AAPL         IBM        MSFT       TWTR\n",
       "Date                                                                    \n",
       "2021-01-04 00:00:00-05:00  127.680023  106.178658  213.342026  54.529999\n",
       "2021-01-05 00:00:00-05:00  129.258591  108.063400  213.547821  53.880001\n",
       "2021-01-06 00:00:00-05:00  124.907562  110.762001  208.010651  53.259998\n",
       "2021-01-07 00:00:00-05:00  129.169815  110.504974  213.930038  52.330002\n",
       "2021-01-08 00:00:00-05:00  130.284698  110.110901  215.233459  51.480000"
      ]
     },
     "execution_count": 31,
     "metadata": {},
     "output_type": "execute_result"
    }
   ],
   "source": [
    "data.head()"
   ]
  },
  {
   "cell_type": "code",
   "execution_count": 32,
   "id": "f25dbd67",
   "metadata": {},
   "outputs": [],
   "source": [
    "log_returns = np.log(data/data.shift())"
   ]
  },
  {
   "cell_type": "code",
   "execution_count": 33,
   "id": "e9b0e44d",
   "metadata": {},
   "outputs": [
    {
     "data": {
      "text/plain": [
       "array([0.37739213, 0.19749107, 0.40744752, 0.01766928])"
      ]
     },
     "execution_count": 33,
     "metadata": {},
     "output_type": "execute_result"
    }
   ],
   "source": [
    "weight = np.random.random(4)\n",
    "weight /= weight.sum()\n",
    "weight\n"
   ]
  },
  {
   "cell_type": "code",
   "execution_count": 34,
   "id": "2d319aed",
   "metadata": {},
   "outputs": [],
   "source": [
    "exp_rtn = np.sum(log_returns.mean()*weight)*252"
   ]
  },
  {
   "cell_type": "code",
   "execution_count": 35,
   "id": "5399db17",
   "metadata": {},
   "outputs": [],
   "source": [
    "exp_vol = np.sqrt(np.dot(weight.T, np.dot(log_returns.cov()*252, weight)))"
   ]
  },
  {
   "cell_type": "code",
   "execution_count": 36,
   "id": "ec3da1b0",
   "metadata": {},
   "outputs": [],
   "source": [
    "sharpe_ratio = exp_rtn / exp_vol"
   ]
  },
  {
   "cell_type": "code",
   "execution_count": 37,
   "id": "bf9c4e86",
   "metadata": {},
   "outputs": [
    {
     "data": {
      "text/plain": [
       "0.32690137462700286"
      ]
     },
     "execution_count": 37,
     "metadata": {},
     "output_type": "execute_result"
    }
   ],
   "source": [
    "sharpe_ratio"
   ]
  },
  {
   "cell_type": "code",
   "execution_count": 49,
   "id": "7b72f897",
   "metadata": {},
   "outputs": [],
   "source": [
    "# Monte Carlo Simulation\n",
    "n = 500\n",
    "weights = np.zeros((n, 4))\n",
    "exp_rtns = np.zeros(n)\n",
    "exp_vols = np.zeros(n)\n",
    "sharpe_raios = np.zeros(n)\n",
    "\n",
    "for i in range(n):\n",
    "    weight = np.random.random(4)\n",
    "    weight /= weight.sum()\n",
    "    weights[i] = weight\n",
    "    \n",
    "    exp_rtns[i] = np.sum(log_returns.mean()*weight)*252\n",
    "    exp_vols[i] = np.sqrt(np.dot(weight.T, np.dot(log_returns.cov()*252, weight)))\n",
    "    sharpe_ratios[i] = exp_rtns[i] / exp_vols[i]"
   ]
  },
  {
   "cell_type": "code",
   "execution_count": 44,
   "id": "718577dc",
   "metadata": {},
   "outputs": [],
   "source": []
  },
  {
   "cell_type": "code",
   "execution_count": 47,
   "id": "716b87d4",
   "metadata": {},
   "outputs": [
    {
     "data": {
      "text/plain": [
       "0.4567226851190623"
      ]
     },
     "execution_count": 47,
     "metadata": {},
     "output_type": "execute_result"
    }
   ],
   "source": [
    "sharpe_ratios.max()"
   ]
  },
  {
   "cell_type": "code",
   "execution_count": 46,
   "id": "e13d3c70",
   "metadata": {},
   "outputs": [
    {
     "data": {
      "text/plain": [
       "2995"
      ]
     },
     "execution_count": 46,
     "metadata": {},
     "output_type": "execute_result"
    }
   ],
   "source": [
    "sharpe_ratios.argmax()"
   ]
  },
  {
   "cell_type": "code",
   "execution_count": 45,
   "id": "db3490fd",
   "metadata": {},
   "outputs": [],
   "source": [
    "weights[3153]\n",
    "import matplotlib.pyplot as plt"
   ]
  },
  {
   "cell_type": "code",
   "execution_count": 48,
   "id": "ad8d9c41",
   "metadata": {
    "scrolled": true
   },
   "outputs": [
    {
     "data": {
      "application/javascript": [
       "/* Put everything inside the global mpl namespace */\n",
       "/* global mpl */\n",
       "window.mpl = {};\n",
       "\n",
       "mpl.get_websocket_type = function () {\n",
       "    if (typeof WebSocket !== 'undefined') {\n",
       "        return WebSocket;\n",
       "    } else if (typeof MozWebSocket !== 'undefined') {\n",
       "        return MozWebSocket;\n",
       "    } else {\n",
       "        alert(\n",
       "            'Your browser does not have WebSocket support. ' +\n",
       "                'Please try Chrome, Safari or Firefox ≥ 6. ' +\n",
       "                'Firefox 4 and 5 are also supported but you ' +\n",
       "                'have to enable WebSockets in about:config.'\n",
       "        );\n",
       "    }\n",
       "};\n",
       "\n",
       "mpl.figure = function (figure_id, websocket, ondownload, parent_element) {\n",
       "    this.id = figure_id;\n",
       "\n",
       "    this.ws = websocket;\n",
       "\n",
       "    this.supports_binary = this.ws.binaryType !== undefined;\n",
       "\n",
       "    if (!this.supports_binary) {\n",
       "        var warnings = document.getElementById('mpl-warnings');\n",
       "        if (warnings) {\n",
       "            warnings.style.display = 'block';\n",
       "            warnings.textContent =\n",
       "                'This browser does not support binary websocket messages. ' +\n",
       "                'Performance may be slow.';\n",
       "        }\n",
       "    }\n",
       "\n",
       "    this.imageObj = new Image();\n",
       "\n",
       "    this.context = undefined;\n",
       "    this.message = undefined;\n",
       "    this.canvas = undefined;\n",
       "    this.rubberband_canvas = undefined;\n",
       "    this.rubberband_context = undefined;\n",
       "    this.format_dropdown = undefined;\n",
       "\n",
       "    this.image_mode = 'full';\n",
       "\n",
       "    this.root = document.createElement('div');\n",
       "    this.root.setAttribute('style', 'display: inline-block');\n",
       "    this._root_extra_style(this.root);\n",
       "\n",
       "    parent_element.appendChild(this.root);\n",
       "\n",
       "    this._init_header(this);\n",
       "    this._init_canvas(this);\n",
       "    this._init_toolbar(this);\n",
       "\n",
       "    var fig = this;\n",
       "\n",
       "    this.waiting = false;\n",
       "\n",
       "    this.ws.onopen = function () {\n",
       "        fig.send_message('supports_binary', { value: fig.supports_binary });\n",
       "        fig.send_message('send_image_mode', {});\n",
       "        if (fig.ratio !== 1) {\n",
       "            fig.send_message('set_dpi_ratio', { dpi_ratio: fig.ratio });\n",
       "        }\n",
       "        fig.send_message('refresh', {});\n",
       "    };\n",
       "\n",
       "    this.imageObj.onload = function () {\n",
       "        if (fig.image_mode === 'full') {\n",
       "            // Full images could contain transparency (where diff images\n",
       "            // almost always do), so we need to clear the canvas so that\n",
       "            // there is no ghosting.\n",
       "            fig.context.clearRect(0, 0, fig.canvas.width, fig.canvas.height);\n",
       "        }\n",
       "        fig.context.drawImage(fig.imageObj, 0, 0);\n",
       "    };\n",
       "\n",
       "    this.imageObj.onunload = function () {\n",
       "        fig.ws.close();\n",
       "    };\n",
       "\n",
       "    this.ws.onmessage = this._make_on_message_function(this);\n",
       "\n",
       "    this.ondownload = ondownload;\n",
       "};\n",
       "\n",
       "mpl.figure.prototype._init_header = function () {\n",
       "    var titlebar = document.createElement('div');\n",
       "    titlebar.classList =\n",
       "        'ui-dialog-titlebar ui-widget-header ui-corner-all ui-helper-clearfix';\n",
       "    var titletext = document.createElement('div');\n",
       "    titletext.classList = 'ui-dialog-title';\n",
       "    titletext.setAttribute(\n",
       "        'style',\n",
       "        'width: 100%; text-align: center; padding: 3px;'\n",
       "    );\n",
       "    titlebar.appendChild(titletext);\n",
       "    this.root.appendChild(titlebar);\n",
       "    this.header = titletext;\n",
       "};\n",
       "\n",
       "mpl.figure.prototype._canvas_extra_style = function (_canvas_div) {};\n",
       "\n",
       "mpl.figure.prototype._root_extra_style = function (_canvas_div) {};\n",
       "\n",
       "mpl.figure.prototype._init_canvas = function () {\n",
       "    var fig = this;\n",
       "\n",
       "    var canvas_div = (this.canvas_div = document.createElement('div'));\n",
       "    canvas_div.setAttribute(\n",
       "        'style',\n",
       "        'border: 1px solid #ddd;' +\n",
       "            'box-sizing: content-box;' +\n",
       "            'clear: both;' +\n",
       "            'min-height: 1px;' +\n",
       "            'min-width: 1px;' +\n",
       "            'outline: 0;' +\n",
       "            'overflow: hidden;' +\n",
       "            'position: relative;' +\n",
       "            'resize: both;'\n",
       "    );\n",
       "\n",
       "    function on_keyboard_event_closure(name) {\n",
       "        return function (event) {\n",
       "            return fig.key_event(event, name);\n",
       "        };\n",
       "    }\n",
       "\n",
       "    canvas_div.addEventListener(\n",
       "        'keydown',\n",
       "        on_keyboard_event_closure('key_press')\n",
       "    );\n",
       "    canvas_div.addEventListener(\n",
       "        'keyup',\n",
       "        on_keyboard_event_closure('key_release')\n",
       "    );\n",
       "\n",
       "    this._canvas_extra_style(canvas_div);\n",
       "    this.root.appendChild(canvas_div);\n",
       "\n",
       "    var canvas = (this.canvas = document.createElement('canvas'));\n",
       "    canvas.classList.add('mpl-canvas');\n",
       "    canvas.setAttribute('style', 'box-sizing: content-box;');\n",
       "\n",
       "    this.context = canvas.getContext('2d');\n",
       "\n",
       "    var backingStore =\n",
       "        this.context.backingStorePixelRatio ||\n",
       "        this.context.webkitBackingStorePixelRatio ||\n",
       "        this.context.mozBackingStorePixelRatio ||\n",
       "        this.context.msBackingStorePixelRatio ||\n",
       "        this.context.oBackingStorePixelRatio ||\n",
       "        this.context.backingStorePixelRatio ||\n",
       "        1;\n",
       "\n",
       "    this.ratio = (window.devicePixelRatio || 1) / backingStore;\n",
       "\n",
       "    var rubberband_canvas = (this.rubberband_canvas = document.createElement(\n",
       "        'canvas'\n",
       "    ));\n",
       "    rubberband_canvas.setAttribute(\n",
       "        'style',\n",
       "        'box-sizing: content-box; position: absolute; left: 0; top: 0; z-index: 1;'\n",
       "    );\n",
       "\n",
       "    // Apply a ponyfill if ResizeObserver is not implemented by browser.\n",
       "    if (this.ResizeObserver === undefined) {\n",
       "        if (window.ResizeObserver !== undefined) {\n",
       "            this.ResizeObserver = window.ResizeObserver;\n",
       "        } else {\n",
       "            var obs = _JSXTOOLS_RESIZE_OBSERVER({});\n",
       "            this.ResizeObserver = obs.ResizeObserver;\n",
       "        }\n",
       "    }\n",
       "\n",
       "    this.resizeObserverInstance = new this.ResizeObserver(function (entries) {\n",
       "        var nentries = entries.length;\n",
       "        for (var i = 0; i < nentries; i++) {\n",
       "            var entry = entries[i];\n",
       "            var width, height;\n",
       "            if (entry.contentBoxSize) {\n",
       "                if (entry.contentBoxSize instanceof Array) {\n",
       "                    // Chrome 84 implements new version of spec.\n",
       "                    width = entry.contentBoxSize[0].inlineSize;\n",
       "                    height = entry.contentBoxSize[0].blockSize;\n",
       "                } else {\n",
       "                    // Firefox implements old version of spec.\n",
       "                    width = entry.contentBoxSize.inlineSize;\n",
       "                    height = entry.contentBoxSize.blockSize;\n",
       "                }\n",
       "            } else {\n",
       "                // Chrome <84 implements even older version of spec.\n",
       "                width = entry.contentRect.width;\n",
       "                height = entry.contentRect.height;\n",
       "            }\n",
       "\n",
       "            // Keep the size of the canvas and rubber band canvas in sync with\n",
       "            // the canvas container.\n",
       "            if (entry.devicePixelContentBoxSize) {\n",
       "                // Chrome 84 implements new version of spec.\n",
       "                canvas.setAttribute(\n",
       "                    'width',\n",
       "                    entry.devicePixelContentBoxSize[0].inlineSize\n",
       "                );\n",
       "                canvas.setAttribute(\n",
       "                    'height',\n",
       "                    entry.devicePixelContentBoxSize[0].blockSize\n",
       "                );\n",
       "            } else {\n",
       "                canvas.setAttribute('width', width * fig.ratio);\n",
       "                canvas.setAttribute('height', height * fig.ratio);\n",
       "            }\n",
       "            canvas.setAttribute(\n",
       "                'style',\n",
       "                'width: ' + width + 'px; height: ' + height + 'px;'\n",
       "            );\n",
       "\n",
       "            rubberband_canvas.setAttribute('width', width);\n",
       "            rubberband_canvas.setAttribute('height', height);\n",
       "\n",
       "            // And update the size in Python. We ignore the initial 0/0 size\n",
       "            // that occurs as the element is placed into the DOM, which should\n",
       "            // otherwise not happen due to the minimum size styling.\n",
       "            if (fig.ws.readyState == 1 && width != 0 && height != 0) {\n",
       "                fig.request_resize(width, height);\n",
       "            }\n",
       "        }\n",
       "    });\n",
       "    this.resizeObserverInstance.observe(canvas_div);\n",
       "\n",
       "    function on_mouse_event_closure(name) {\n",
       "        return function (event) {\n",
       "            return fig.mouse_event(event, name);\n",
       "        };\n",
       "    }\n",
       "\n",
       "    rubberband_canvas.addEventListener(\n",
       "        'mousedown',\n",
       "        on_mouse_event_closure('button_press')\n",
       "    );\n",
       "    rubberband_canvas.addEventListener(\n",
       "        'mouseup',\n",
       "        on_mouse_event_closure('button_release')\n",
       "    );\n",
       "    rubberband_canvas.addEventListener(\n",
       "        'dblclick',\n",
       "        on_mouse_event_closure('dblclick')\n",
       "    );\n",
       "    // Throttle sequential mouse events to 1 every 20ms.\n",
       "    rubberband_canvas.addEventListener(\n",
       "        'mousemove',\n",
       "        on_mouse_event_closure('motion_notify')\n",
       "    );\n",
       "\n",
       "    rubberband_canvas.addEventListener(\n",
       "        'mouseenter',\n",
       "        on_mouse_event_closure('figure_enter')\n",
       "    );\n",
       "    rubberband_canvas.addEventListener(\n",
       "        'mouseleave',\n",
       "        on_mouse_event_closure('figure_leave')\n",
       "    );\n",
       "\n",
       "    canvas_div.addEventListener('wheel', function (event) {\n",
       "        if (event.deltaY < 0) {\n",
       "            event.step = 1;\n",
       "        } else {\n",
       "            event.step = -1;\n",
       "        }\n",
       "        on_mouse_event_closure('scroll')(event);\n",
       "    });\n",
       "\n",
       "    canvas_div.appendChild(canvas);\n",
       "    canvas_div.appendChild(rubberband_canvas);\n",
       "\n",
       "    this.rubberband_context = rubberband_canvas.getContext('2d');\n",
       "    this.rubberband_context.strokeStyle = '#000000';\n",
       "\n",
       "    this._resize_canvas = function (width, height, forward) {\n",
       "        if (forward) {\n",
       "            canvas_div.style.width = width + 'px';\n",
       "            canvas_div.style.height = height + 'px';\n",
       "        }\n",
       "    };\n",
       "\n",
       "    // Disable right mouse context menu.\n",
       "    this.rubberband_canvas.addEventListener('contextmenu', function (_e) {\n",
       "        event.preventDefault();\n",
       "        return false;\n",
       "    });\n",
       "\n",
       "    function set_focus() {\n",
       "        canvas.focus();\n",
       "        canvas_div.focus();\n",
       "    }\n",
       "\n",
       "    window.setTimeout(set_focus, 100);\n",
       "};\n",
       "\n",
       "mpl.figure.prototype._init_toolbar = function () {\n",
       "    var fig = this;\n",
       "\n",
       "    var toolbar = document.createElement('div');\n",
       "    toolbar.classList = 'mpl-toolbar';\n",
       "    this.root.appendChild(toolbar);\n",
       "\n",
       "    function on_click_closure(name) {\n",
       "        return function (_event) {\n",
       "            return fig.toolbar_button_onclick(name);\n",
       "        };\n",
       "    }\n",
       "\n",
       "    function on_mouseover_closure(tooltip) {\n",
       "        return function (event) {\n",
       "            if (!event.currentTarget.disabled) {\n",
       "                return fig.toolbar_button_onmouseover(tooltip);\n",
       "            }\n",
       "        };\n",
       "    }\n",
       "\n",
       "    fig.buttons = {};\n",
       "    var buttonGroup = document.createElement('div');\n",
       "    buttonGroup.classList = 'mpl-button-group';\n",
       "    for (var toolbar_ind in mpl.toolbar_items) {\n",
       "        var name = mpl.toolbar_items[toolbar_ind][0];\n",
       "        var tooltip = mpl.toolbar_items[toolbar_ind][1];\n",
       "        var image = mpl.toolbar_items[toolbar_ind][2];\n",
       "        var method_name = mpl.toolbar_items[toolbar_ind][3];\n",
       "\n",
       "        if (!name) {\n",
       "            /* Instead of a spacer, we start a new button group. */\n",
       "            if (buttonGroup.hasChildNodes()) {\n",
       "                toolbar.appendChild(buttonGroup);\n",
       "            }\n",
       "            buttonGroup = document.createElement('div');\n",
       "            buttonGroup.classList = 'mpl-button-group';\n",
       "            continue;\n",
       "        }\n",
       "\n",
       "        var button = (fig.buttons[name] = document.createElement('button'));\n",
       "        button.classList = 'mpl-widget';\n",
       "        button.setAttribute('role', 'button');\n",
       "        button.setAttribute('aria-disabled', 'false');\n",
       "        button.addEventListener('click', on_click_closure(method_name));\n",
       "        button.addEventListener('mouseover', on_mouseover_closure(tooltip));\n",
       "\n",
       "        var icon_img = document.createElement('img');\n",
       "        icon_img.src = '_images/' + image + '.png';\n",
       "        icon_img.srcset = '_images/' + image + '_large.png 2x';\n",
       "        icon_img.alt = tooltip;\n",
       "        button.appendChild(icon_img);\n",
       "\n",
       "        buttonGroup.appendChild(button);\n",
       "    }\n",
       "\n",
       "    if (buttonGroup.hasChildNodes()) {\n",
       "        toolbar.appendChild(buttonGroup);\n",
       "    }\n",
       "\n",
       "    var fmt_picker = document.createElement('select');\n",
       "    fmt_picker.classList = 'mpl-widget';\n",
       "    toolbar.appendChild(fmt_picker);\n",
       "    this.format_dropdown = fmt_picker;\n",
       "\n",
       "    for (var ind in mpl.extensions) {\n",
       "        var fmt = mpl.extensions[ind];\n",
       "        var option = document.createElement('option');\n",
       "        option.selected = fmt === mpl.default_extension;\n",
       "        option.innerHTML = fmt;\n",
       "        fmt_picker.appendChild(option);\n",
       "    }\n",
       "\n",
       "    var status_bar = document.createElement('span');\n",
       "    status_bar.classList = 'mpl-message';\n",
       "    toolbar.appendChild(status_bar);\n",
       "    this.message = status_bar;\n",
       "};\n",
       "\n",
       "mpl.figure.prototype.request_resize = function (x_pixels, y_pixels) {\n",
       "    // Request matplotlib to resize the figure. Matplotlib will then trigger a resize in the client,\n",
       "    // which will in turn request a refresh of the image.\n",
       "    this.send_message('resize', { width: x_pixels, height: y_pixels });\n",
       "};\n",
       "\n",
       "mpl.figure.prototype.send_message = function (type, properties) {\n",
       "    properties['type'] = type;\n",
       "    properties['figure_id'] = this.id;\n",
       "    this.ws.send(JSON.stringify(properties));\n",
       "};\n",
       "\n",
       "mpl.figure.prototype.send_draw_message = function () {\n",
       "    if (!this.waiting) {\n",
       "        this.waiting = true;\n",
       "        this.ws.send(JSON.stringify({ type: 'draw', figure_id: this.id }));\n",
       "    }\n",
       "};\n",
       "\n",
       "mpl.figure.prototype.handle_save = function (fig, _msg) {\n",
       "    var format_dropdown = fig.format_dropdown;\n",
       "    var format = format_dropdown.options[format_dropdown.selectedIndex].value;\n",
       "    fig.ondownload(fig, format);\n",
       "};\n",
       "\n",
       "mpl.figure.prototype.handle_resize = function (fig, msg) {\n",
       "    var size = msg['size'];\n",
       "    if (size[0] !== fig.canvas.width || size[1] !== fig.canvas.height) {\n",
       "        fig._resize_canvas(size[0], size[1], msg['forward']);\n",
       "        fig.send_message('refresh', {});\n",
       "    }\n",
       "};\n",
       "\n",
       "mpl.figure.prototype.handle_rubberband = function (fig, msg) {\n",
       "    var x0 = msg['x0'] / fig.ratio;\n",
       "    var y0 = (fig.canvas.height - msg['y0']) / fig.ratio;\n",
       "    var x1 = msg['x1'] / fig.ratio;\n",
       "    var y1 = (fig.canvas.height - msg['y1']) / fig.ratio;\n",
       "    x0 = Math.floor(x0) + 0.5;\n",
       "    y0 = Math.floor(y0) + 0.5;\n",
       "    x1 = Math.floor(x1) + 0.5;\n",
       "    y1 = Math.floor(y1) + 0.5;\n",
       "    var min_x = Math.min(x0, x1);\n",
       "    var min_y = Math.min(y0, y1);\n",
       "    var width = Math.abs(x1 - x0);\n",
       "    var height = Math.abs(y1 - y0);\n",
       "\n",
       "    fig.rubberband_context.clearRect(\n",
       "        0,\n",
       "        0,\n",
       "        fig.canvas.width / fig.ratio,\n",
       "        fig.canvas.height / fig.ratio\n",
       "    );\n",
       "\n",
       "    fig.rubberband_context.strokeRect(min_x, min_y, width, height);\n",
       "};\n",
       "\n",
       "mpl.figure.prototype.handle_figure_label = function (fig, msg) {\n",
       "    // Updates the figure title.\n",
       "    fig.header.textContent = msg['label'];\n",
       "};\n",
       "\n",
       "mpl.figure.prototype.handle_cursor = function (fig, msg) {\n",
       "    var cursor = msg['cursor'];\n",
       "    switch (cursor) {\n",
       "        case 0:\n",
       "            cursor = 'pointer';\n",
       "            break;\n",
       "        case 1:\n",
       "            cursor = 'default';\n",
       "            break;\n",
       "        case 2:\n",
       "            cursor = 'crosshair';\n",
       "            break;\n",
       "        case 3:\n",
       "            cursor = 'move';\n",
       "            break;\n",
       "    }\n",
       "    fig.rubberband_canvas.style.cursor = cursor;\n",
       "};\n",
       "\n",
       "mpl.figure.prototype.handle_message = function (fig, msg) {\n",
       "    fig.message.textContent = msg['message'];\n",
       "};\n",
       "\n",
       "mpl.figure.prototype.handle_draw = function (fig, _msg) {\n",
       "    // Request the server to send over a new figure.\n",
       "    fig.send_draw_message();\n",
       "};\n",
       "\n",
       "mpl.figure.prototype.handle_image_mode = function (fig, msg) {\n",
       "    fig.image_mode = msg['mode'];\n",
       "};\n",
       "\n",
       "mpl.figure.prototype.handle_history_buttons = function (fig, msg) {\n",
       "    for (var key in msg) {\n",
       "        if (!(key in fig.buttons)) {\n",
       "            continue;\n",
       "        }\n",
       "        fig.buttons[key].disabled = !msg[key];\n",
       "        fig.buttons[key].setAttribute('aria-disabled', !msg[key]);\n",
       "    }\n",
       "};\n",
       "\n",
       "mpl.figure.prototype.handle_navigate_mode = function (fig, msg) {\n",
       "    if (msg['mode'] === 'PAN') {\n",
       "        fig.buttons['Pan'].classList.add('active');\n",
       "        fig.buttons['Zoom'].classList.remove('active');\n",
       "    } else if (msg['mode'] === 'ZOOM') {\n",
       "        fig.buttons['Pan'].classList.remove('active');\n",
       "        fig.buttons['Zoom'].classList.add('active');\n",
       "    } else {\n",
       "        fig.buttons['Pan'].classList.remove('active');\n",
       "        fig.buttons['Zoom'].classList.remove('active');\n",
       "    }\n",
       "};\n",
       "\n",
       "mpl.figure.prototype.updated_canvas_event = function () {\n",
       "    // Called whenever the canvas gets updated.\n",
       "    this.send_message('ack', {});\n",
       "};\n",
       "\n",
       "// A function to construct a web socket function for onmessage handling.\n",
       "// Called in the figure constructor.\n",
       "mpl.figure.prototype._make_on_message_function = function (fig) {\n",
       "    return function socket_on_message(evt) {\n",
       "        if (evt.data instanceof Blob) {\n",
       "            var img = evt.data;\n",
       "            if (img.type !== 'image/png') {\n",
       "                /* FIXME: We get \"Resource interpreted as Image but\n",
       "                 * transferred with MIME type text/plain:\" errors on\n",
       "                 * Chrome.  But how to set the MIME type?  It doesn't seem\n",
       "                 * to be part of the websocket stream */\n",
       "                img.type = 'image/png';\n",
       "            }\n",
       "\n",
       "            /* Free the memory for the previous frames */\n",
       "            if (fig.imageObj.src) {\n",
       "                (window.URL || window.webkitURL).revokeObjectURL(\n",
       "                    fig.imageObj.src\n",
       "                );\n",
       "            }\n",
       "\n",
       "            fig.imageObj.src = (window.URL || window.webkitURL).createObjectURL(\n",
       "                img\n",
       "            );\n",
       "            fig.updated_canvas_event();\n",
       "            fig.waiting = false;\n",
       "            return;\n",
       "        } else if (\n",
       "            typeof evt.data === 'string' &&\n",
       "            evt.data.slice(0, 21) === 'data:image/png;base64'\n",
       "        ) {\n",
       "            fig.imageObj.src = evt.data;\n",
       "            fig.updated_canvas_event();\n",
       "            fig.waiting = false;\n",
       "            return;\n",
       "        }\n",
       "\n",
       "        var msg = JSON.parse(evt.data);\n",
       "        var msg_type = msg['type'];\n",
       "\n",
       "        // Call the  \"handle_{type}\" callback, which takes\n",
       "        // the figure and JSON message as its only arguments.\n",
       "        try {\n",
       "            var callback = fig['handle_' + msg_type];\n",
       "        } catch (e) {\n",
       "            console.log(\n",
       "                \"No handler for the '\" + msg_type + \"' message type: \",\n",
       "                msg\n",
       "            );\n",
       "            return;\n",
       "        }\n",
       "\n",
       "        if (callback) {\n",
       "            try {\n",
       "                // console.log(\"Handling '\" + msg_type + \"' message: \", msg);\n",
       "                callback(fig, msg);\n",
       "            } catch (e) {\n",
       "                console.log(\n",
       "                    \"Exception inside the 'handler_\" + msg_type + \"' callback:\",\n",
       "                    e,\n",
       "                    e.stack,\n",
       "                    msg\n",
       "                );\n",
       "            }\n",
       "        }\n",
       "    };\n",
       "};\n",
       "\n",
       "// from http://stackoverflow.com/questions/1114465/getting-mouse-location-in-canvas\n",
       "mpl.findpos = function (e) {\n",
       "    //this section is from http://www.quirksmode.org/js/events_properties.html\n",
       "    var targ;\n",
       "    if (!e) {\n",
       "        e = window.event;\n",
       "    }\n",
       "    if (e.target) {\n",
       "        targ = e.target;\n",
       "    } else if (e.srcElement) {\n",
       "        targ = e.srcElement;\n",
       "    }\n",
       "    if (targ.nodeType === 3) {\n",
       "        // defeat Safari bug\n",
       "        targ = targ.parentNode;\n",
       "    }\n",
       "\n",
       "    // pageX,Y are the mouse positions relative to the document\n",
       "    var boundingRect = targ.getBoundingClientRect();\n",
       "    var x = e.pageX - (boundingRect.left + document.body.scrollLeft);\n",
       "    var y = e.pageY - (boundingRect.top + document.body.scrollTop);\n",
       "\n",
       "    return { x: x, y: y };\n",
       "};\n",
       "\n",
       "/*\n",
       " * return a copy of an object with only non-object keys\n",
       " * we need this to avoid circular references\n",
       " * http://stackoverflow.com/a/24161582/3208463\n",
       " */\n",
       "function simpleKeys(original) {\n",
       "    return Object.keys(original).reduce(function (obj, key) {\n",
       "        if (typeof original[key] !== 'object') {\n",
       "            obj[key] = original[key];\n",
       "        }\n",
       "        return obj;\n",
       "    }, {});\n",
       "}\n",
       "\n",
       "mpl.figure.prototype.mouse_event = function (event, name) {\n",
       "    var canvas_pos = mpl.findpos(event);\n",
       "\n",
       "    if (name === 'button_press') {\n",
       "        this.canvas.focus();\n",
       "        this.canvas_div.focus();\n",
       "    }\n",
       "\n",
       "    var x = canvas_pos.x * this.ratio;\n",
       "    var y = canvas_pos.y * this.ratio;\n",
       "\n",
       "    this.send_message(name, {\n",
       "        x: x,\n",
       "        y: y,\n",
       "        button: event.button,\n",
       "        step: event.step,\n",
       "        guiEvent: simpleKeys(event),\n",
       "    });\n",
       "\n",
       "    /* This prevents the web browser from automatically changing to\n",
       "     * the text insertion cursor when the button is pressed.  We want\n",
       "     * to control all of the cursor setting manually through the\n",
       "     * 'cursor' event from matplotlib */\n",
       "    event.preventDefault();\n",
       "    return false;\n",
       "};\n",
       "\n",
       "mpl.figure.prototype._key_event_extra = function (_event, _name) {\n",
       "    // Handle any extra behaviour associated with a key event\n",
       "};\n",
       "\n",
       "mpl.figure.prototype.key_event = function (event, name) {\n",
       "    // Prevent repeat events\n",
       "    if (name === 'key_press') {\n",
       "        if (event.key === this._key) {\n",
       "            return;\n",
       "        } else {\n",
       "            this._key = event.key;\n",
       "        }\n",
       "    }\n",
       "    if (name === 'key_release') {\n",
       "        this._key = null;\n",
       "    }\n",
       "\n",
       "    var value = '';\n",
       "    if (event.ctrlKey && event.key !== 'Control') {\n",
       "        value += 'ctrl+';\n",
       "    }\n",
       "    else if (event.altKey && event.key !== 'Alt') {\n",
       "        value += 'alt+';\n",
       "    }\n",
       "    else if (event.shiftKey && event.key !== 'Shift') {\n",
       "        value += 'shift+';\n",
       "    }\n",
       "\n",
       "    value += 'k' + event.key;\n",
       "\n",
       "    this._key_event_extra(event, name);\n",
       "\n",
       "    this.send_message(name, { key: value, guiEvent: simpleKeys(event) });\n",
       "    return false;\n",
       "};\n",
       "\n",
       "mpl.figure.prototype.toolbar_button_onclick = function (name) {\n",
       "    if (name === 'download') {\n",
       "        this.handle_save(this, null);\n",
       "    } else {\n",
       "        this.send_message('toolbar_button', { name: name });\n",
       "    }\n",
       "};\n",
       "\n",
       "mpl.figure.prototype.toolbar_button_onmouseover = function (tooltip) {\n",
       "    this.message.textContent = tooltip;\n",
       "};\n",
       "\n",
       "///////////////// REMAINING CONTENT GENERATED BY embed_js.py /////////////////\n",
       "// prettier-ignore\n",
       "var _JSXTOOLS_RESIZE_OBSERVER=function(A){var t,i=new WeakMap,n=new WeakMap,a=new WeakMap,r=new WeakMap,o=new Set;function s(e){if(!(this instanceof s))throw new TypeError(\"Constructor requires 'new' operator\");i.set(this,e)}function h(){throw new TypeError(\"Function is not a constructor\")}function c(e,t,i,n){e=0 in arguments?Number(arguments[0]):0,t=1 in arguments?Number(arguments[1]):0,i=2 in arguments?Number(arguments[2]):0,n=3 in arguments?Number(arguments[3]):0,this.right=(this.x=this.left=e)+(this.width=i),this.bottom=(this.y=this.top=t)+(this.height=n),Object.freeze(this)}function d(){t=requestAnimationFrame(d);var s=new WeakMap,p=new Set;o.forEach((function(t){r.get(t).forEach((function(i){var r=t instanceof window.SVGElement,o=a.get(t),d=r?0:parseFloat(o.paddingTop),f=r?0:parseFloat(o.paddingRight),l=r?0:parseFloat(o.paddingBottom),u=r?0:parseFloat(o.paddingLeft),g=r?0:parseFloat(o.borderTopWidth),m=r?0:parseFloat(o.borderRightWidth),w=r?0:parseFloat(o.borderBottomWidth),b=u+f,F=d+l,v=(r?0:parseFloat(o.borderLeftWidth))+m,W=g+w,y=r?0:t.offsetHeight-W-t.clientHeight,E=r?0:t.offsetWidth-v-t.clientWidth,R=b+v,z=F+W,M=r?t.width:parseFloat(o.width)-R-E,O=r?t.height:parseFloat(o.height)-z-y;if(n.has(t)){var k=n.get(t);if(k[0]===M&&k[1]===O)return}n.set(t,[M,O]);var S=Object.create(h.prototype);S.target=t,S.contentRect=new c(u,d,M,O),s.has(i)||(s.set(i,[]),p.add(i)),s.get(i).push(S)}))})),p.forEach((function(e){i.get(e).call(e,s.get(e),e)}))}return s.prototype.observe=function(i){if(i instanceof window.Element){r.has(i)||(r.set(i,new Set),o.add(i),a.set(i,window.getComputedStyle(i)));var n=r.get(i);n.has(this)||n.add(this),cancelAnimationFrame(t),t=requestAnimationFrame(d)}},s.prototype.unobserve=function(i){if(i instanceof window.Element&&r.has(i)){var n=r.get(i);n.has(this)&&(n.delete(this),n.size||(r.delete(i),o.delete(i))),n.size||r.delete(i),o.size||cancelAnimationFrame(t)}},A.DOMRectReadOnly=c,A.ResizeObserver=s,A.ResizeObserverEntry=h,A}; // eslint-disable-line\n",
       "mpl.toolbar_items = [[\"Home\", \"Reset original view\", \"fa fa-home icon-home\", \"home\"], [\"Back\", \"Back to previous view\", \"fa fa-arrow-left icon-arrow-left\", \"back\"], [\"Forward\", \"Forward to next view\", \"fa fa-arrow-right icon-arrow-right\", \"forward\"], [\"\", \"\", \"\", \"\"], [\"Pan\", \"Left button pans, Right button zooms\\nx/y fixes axis, CTRL fixes aspect\", \"fa fa-arrows icon-move\", \"pan\"], [\"Zoom\", \"Zoom to rectangle\\nx/y fixes axis, CTRL fixes aspect\", \"fa fa-square-o icon-check-empty\", \"zoom\"], [\"\", \"\", \"\", \"\"], [\"Download\", \"Download plot\", \"fa fa-floppy-o icon-save\", \"download\"]];\n",
       "\n",
       "mpl.extensions = [\"eps\", \"jpeg\", \"pgf\", \"pdf\", \"png\", \"ps\", \"raw\", \"svg\", \"tif\"];\n",
       "\n",
       "mpl.default_extension = \"png\";/* global mpl */\n",
       "\n",
       "var comm_websocket_adapter = function (comm) {\n",
       "    // Create a \"websocket\"-like object which calls the given IPython comm\n",
       "    // object with the appropriate methods. Currently this is a non binary\n",
       "    // socket, so there is still some room for performance tuning.\n",
       "    var ws = {};\n",
       "\n",
       "    ws.binaryType = comm.kernel.ws.binaryType;\n",
       "    ws.readyState = comm.kernel.ws.readyState;\n",
       "    function updateReadyState(_event) {\n",
       "        if (comm.kernel.ws) {\n",
       "            ws.readyState = comm.kernel.ws.readyState;\n",
       "        } else {\n",
       "            ws.readyState = 3; // Closed state.\n",
       "        }\n",
       "    }\n",
       "    comm.kernel.ws.addEventListener('open', updateReadyState);\n",
       "    comm.kernel.ws.addEventListener('close', updateReadyState);\n",
       "    comm.kernel.ws.addEventListener('error', updateReadyState);\n",
       "\n",
       "    ws.close = function () {\n",
       "        comm.close();\n",
       "    };\n",
       "    ws.send = function (m) {\n",
       "        //console.log('sending', m);\n",
       "        comm.send(m);\n",
       "    };\n",
       "    // Register the callback with on_msg.\n",
       "    comm.on_msg(function (msg) {\n",
       "        //console.log('receiving', msg['content']['data'], msg);\n",
       "        var data = msg['content']['data'];\n",
       "        if (data['blob'] !== undefined) {\n",
       "            data = {\n",
       "                data: new Blob(msg['buffers'], { type: data['blob'] }),\n",
       "            };\n",
       "        }\n",
       "        // Pass the mpl event to the overridden (by mpl) onmessage function.\n",
       "        ws.onmessage(data);\n",
       "    });\n",
       "    return ws;\n",
       "};\n",
       "\n",
       "mpl.mpl_figure_comm = function (comm, msg) {\n",
       "    // This is the function which gets called when the mpl process\n",
       "    // starts-up an IPython Comm through the \"matplotlib\" channel.\n",
       "\n",
       "    var id = msg.content.data.id;\n",
       "    // Get hold of the div created by the display call when the Comm\n",
       "    // socket was opened in Python.\n",
       "    var element = document.getElementById(id);\n",
       "    var ws_proxy = comm_websocket_adapter(comm);\n",
       "\n",
       "    function ondownload(figure, _format) {\n",
       "        window.open(figure.canvas.toDataURL());\n",
       "    }\n",
       "\n",
       "    var fig = new mpl.figure(id, ws_proxy, ondownload, element);\n",
       "\n",
       "    // Call onopen now - mpl needs it, as it is assuming we've passed it a real\n",
       "    // web socket which is closed, not our websocket->open comm proxy.\n",
       "    ws_proxy.onopen();\n",
       "\n",
       "    fig.parent_element = element;\n",
       "    fig.cell_info = mpl.find_output_cell(\"<div id='\" + id + \"'></div>\");\n",
       "    if (!fig.cell_info) {\n",
       "        console.error('Failed to find cell for figure', id, fig);\n",
       "        return;\n",
       "    }\n",
       "    fig.cell_info[0].output_area.element.on(\n",
       "        'cleared',\n",
       "        { fig: fig },\n",
       "        fig._remove_fig_handler\n",
       "    );\n",
       "};\n",
       "\n",
       "mpl.figure.prototype.handle_close = function (fig, msg) {\n",
       "    var width = fig.canvas.width / fig.ratio;\n",
       "    fig.cell_info[0].output_area.element.off(\n",
       "        'cleared',\n",
       "        fig._remove_fig_handler\n",
       "    );\n",
       "    fig.resizeObserverInstance.unobserve(fig.canvas_div);\n",
       "\n",
       "    // Update the output cell to use the data from the current canvas.\n",
       "    fig.push_to_output();\n",
       "    var dataURL = fig.canvas.toDataURL();\n",
       "    // Re-enable the keyboard manager in IPython - without this line, in FF,\n",
       "    // the notebook keyboard shortcuts fail.\n",
       "    IPython.keyboard_manager.enable();\n",
       "    fig.parent_element.innerHTML =\n",
       "        '<img src=\"' + dataURL + '\" width=\"' + width + '\">';\n",
       "    fig.close_ws(fig, msg);\n",
       "};\n",
       "\n",
       "mpl.figure.prototype.close_ws = function (fig, msg) {\n",
       "    fig.send_message('closing', msg);\n",
       "    // fig.ws.close()\n",
       "};\n",
       "\n",
       "mpl.figure.prototype.push_to_output = function (_remove_interactive) {\n",
       "    // Turn the data on the canvas into data in the output cell.\n",
       "    var width = this.canvas.width / this.ratio;\n",
       "    var dataURL = this.canvas.toDataURL();\n",
       "    this.cell_info[1]['text/html'] =\n",
       "        '<img src=\"' + dataURL + '\" width=\"' + width + '\">';\n",
       "};\n",
       "\n",
       "mpl.figure.prototype.updated_canvas_event = function () {\n",
       "    // Tell IPython that the notebook contents must change.\n",
       "    IPython.notebook.set_dirty(true);\n",
       "    this.send_message('ack', {});\n",
       "    var fig = this;\n",
       "    // Wait a second, then push the new image to the DOM so\n",
       "    // that it is saved nicely (might be nice to debounce this).\n",
       "    setTimeout(function () {\n",
       "        fig.push_to_output();\n",
       "    }, 1000);\n",
       "};\n",
       "\n",
       "mpl.figure.prototype._init_toolbar = function () {\n",
       "    var fig = this;\n",
       "\n",
       "    var toolbar = document.createElement('div');\n",
       "    toolbar.classList = 'btn-toolbar';\n",
       "    this.root.appendChild(toolbar);\n",
       "\n",
       "    function on_click_closure(name) {\n",
       "        return function (_event) {\n",
       "            return fig.toolbar_button_onclick(name);\n",
       "        };\n",
       "    }\n",
       "\n",
       "    function on_mouseover_closure(tooltip) {\n",
       "        return function (event) {\n",
       "            if (!event.currentTarget.disabled) {\n",
       "                return fig.toolbar_button_onmouseover(tooltip);\n",
       "            }\n",
       "        };\n",
       "    }\n",
       "\n",
       "    fig.buttons = {};\n",
       "    var buttonGroup = document.createElement('div');\n",
       "    buttonGroup.classList = 'btn-group';\n",
       "    var button;\n",
       "    for (var toolbar_ind in mpl.toolbar_items) {\n",
       "        var name = mpl.toolbar_items[toolbar_ind][0];\n",
       "        var tooltip = mpl.toolbar_items[toolbar_ind][1];\n",
       "        var image = mpl.toolbar_items[toolbar_ind][2];\n",
       "        var method_name = mpl.toolbar_items[toolbar_ind][3];\n",
       "\n",
       "        if (!name) {\n",
       "            /* Instead of a spacer, we start a new button group. */\n",
       "            if (buttonGroup.hasChildNodes()) {\n",
       "                toolbar.appendChild(buttonGroup);\n",
       "            }\n",
       "            buttonGroup = document.createElement('div');\n",
       "            buttonGroup.classList = 'btn-group';\n",
       "            continue;\n",
       "        }\n",
       "\n",
       "        button = fig.buttons[name] = document.createElement('button');\n",
       "        button.classList = 'btn btn-default';\n",
       "        button.href = '#';\n",
       "        button.title = name;\n",
       "        button.innerHTML = '<i class=\"fa ' + image + ' fa-lg\"></i>';\n",
       "        button.addEventListener('click', on_click_closure(method_name));\n",
       "        button.addEventListener('mouseover', on_mouseover_closure(tooltip));\n",
       "        buttonGroup.appendChild(button);\n",
       "    }\n",
       "\n",
       "    if (buttonGroup.hasChildNodes()) {\n",
       "        toolbar.appendChild(buttonGroup);\n",
       "    }\n",
       "\n",
       "    // Add the status bar.\n",
       "    var status_bar = document.createElement('span');\n",
       "    status_bar.classList = 'mpl-message pull-right';\n",
       "    toolbar.appendChild(status_bar);\n",
       "    this.message = status_bar;\n",
       "\n",
       "    // Add the close button to the window.\n",
       "    var buttongrp = document.createElement('div');\n",
       "    buttongrp.classList = 'btn-group inline pull-right';\n",
       "    button = document.createElement('button');\n",
       "    button.classList = 'btn btn-mini btn-primary';\n",
       "    button.href = '#';\n",
       "    button.title = 'Stop Interaction';\n",
       "    button.innerHTML = '<i class=\"fa fa-power-off icon-remove icon-large\"></i>';\n",
       "    button.addEventListener('click', function (_evt) {\n",
       "        fig.handle_close(fig, {});\n",
       "    });\n",
       "    button.addEventListener(\n",
       "        'mouseover',\n",
       "        on_mouseover_closure('Stop Interaction')\n",
       "    );\n",
       "    buttongrp.appendChild(button);\n",
       "    var titlebar = this.root.querySelector('.ui-dialog-titlebar');\n",
       "    titlebar.insertBefore(buttongrp, titlebar.firstChild);\n",
       "};\n",
       "\n",
       "mpl.figure.prototype._remove_fig_handler = function (event) {\n",
       "    var fig = event.data.fig;\n",
       "    if (event.target !== this) {\n",
       "        // Ignore bubbled events from children.\n",
       "        return;\n",
       "    }\n",
       "    fig.close_ws(fig, {});\n",
       "};\n",
       "\n",
       "mpl.figure.prototype._root_extra_style = function (el) {\n",
       "    el.style.boxSizing = 'content-box'; // override notebook setting of border-box.\n",
       "};\n",
       "\n",
       "mpl.figure.prototype._canvas_extra_style = function (el) {\n",
       "    // this is important to make the div 'focusable\n",
       "    el.setAttribute('tabindex', 0);\n",
       "    // reach out to IPython and tell the keyboard manager to turn it's self\n",
       "    // off when our div gets focus\n",
       "\n",
       "    // location in version 3\n",
       "    if (IPython.notebook.keyboard_manager) {\n",
       "        IPython.notebook.keyboard_manager.register_events(el);\n",
       "    } else {\n",
       "        // location in version 2\n",
       "        IPython.keyboard_manager.register_events(el);\n",
       "    }\n",
       "};\n",
       "\n",
       "mpl.figure.prototype._key_event_extra = function (event, _name) {\n",
       "    var manager = IPython.notebook.keyboard_manager;\n",
       "    if (!manager) {\n",
       "        manager = IPython.keyboard_manager;\n",
       "    }\n",
       "\n",
       "    // Check for shift+enter\n",
       "    if (event.shiftKey && event.which === 13) {\n",
       "        this.canvas_div.blur();\n",
       "        // select the cell after this one\n",
       "        var index = IPython.notebook.find_cell_index(this.cell_info[0]);\n",
       "        IPython.notebook.select(index + 1);\n",
       "    }\n",
       "};\n",
       "\n",
       "mpl.figure.prototype.handle_save = function (fig, _msg) {\n",
       "    fig.ondownload(fig, null);\n",
       "};\n",
       "\n",
       "mpl.find_output_cell = function (html_output) {\n",
       "    // Return the cell and output element which can be found *uniquely* in the notebook.\n",
       "    // Note - this is a bit hacky, but it is done because the \"notebook_saving.Notebook\"\n",
       "    // IPython event is triggered only after the cells have been serialised, which for\n",
       "    // our purposes (turning an active figure into a static one), is too late.\n",
       "    var cells = IPython.notebook.get_cells();\n",
       "    var ncells = cells.length;\n",
       "    for (var i = 0; i < ncells; i++) {\n",
       "        var cell = cells[i];\n",
       "        if (cell.cell_type === 'code') {\n",
       "            for (var j = 0; j < cell.output_area.outputs.length; j++) {\n",
       "                var data = cell.output_area.outputs[j];\n",
       "                if (data.data) {\n",
       "                    // IPython >= 3 moved mimebundle to data attribute of output\n",
       "                    data = data.data;\n",
       "                }\n",
       "                if (data['text/html'] === html_output) {\n",
       "                    return [cell, data, j];\n",
       "                }\n",
       "            }\n",
       "        }\n",
       "    }\n",
       "};\n",
       "\n",
       "// Register the function which deals with the matplotlib target/channel.\n",
       "// The kernel may be null if the page has been refreshed.\n",
       "if (IPython.notebook.kernel !== null) {\n",
       "    IPython.notebook.kernel.comm_manager.register_target(\n",
       "        'matplotlib',\n",
       "        mpl.mpl_figure_comm\n",
       "    );\n",
       "}\n"
      ],
      "text/plain": [
       "<IPython.core.display.Javascript object>"
      ]
     },
     "metadata": {},
     "output_type": "display_data"
    },
    {
     "data": {
      "text/html": [
       "<img src=\"data:image/png;base64,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\" width=\"640\">"
      ],
      "text/plain": [
       "<IPython.core.display.HTML object>"
      ]
     },
     "metadata": {},
     "output_type": "display_data"
    },
    {
     "data": {
      "text/plain": [
       "Text(0, 0.5, 'Expected Return')"
      ]
     },
     "execution_count": 48,
     "metadata": {},
     "output_type": "execute_result"
    }
   ],
   "source": [
    "%matplotlib notebook\n",
    "fig, ax = plt.subplots()\n",
    "ax.scatter(exp_vols, exp_rtns, c=sharpe_ratios)\n",
    "ax.scatter(exp_vols[sharpe_ratios.argmax()], exp_rtns[sharpe_ratios.argmax()], c='r')\n",
    "ax.set_xlabel('Expected Volatility')\n",
    "ax.set_ylabel('Expected Return')"
   ]
  },
  {
   "cell_type": "code",
   "execution_count": null,
   "id": "4641ea75",
   "metadata": {},
   "outputs": [],
   "source": []
  },
  {
   "cell_type": "code",
   "execution_count": null,
   "id": "42c855a6",
   "metadata": {},
   "outputs": [],
   "source": []
  }
 ],
 "metadata": {
  "kernelspec": {
   "display_name": "Python 3 (ipykernel)",
   "language": "python",
   "name": "python3"
  },
  "language_info": {
   "codemirror_mode": {
    "name": "ipython",
    "version": 3
   },
   "file_extension": ".py",
   "mimetype": "text/x-python",
   "name": "python",
   "nbconvert_exporter": "python",
   "pygments_lexer": "ipython3",
   "version": "3.9.7"
  }
 },
 "nbformat": 4,
 "nbformat_minor": 5
}
